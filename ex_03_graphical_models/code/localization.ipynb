{
 "cells": [
  {
   "cell_type": "markdown",
   "id": "27068542",
   "metadata": {},
   "source": [
    "# Max-Product Belief Propagation on chain structured Markov Random Fields for Vehicle Localization\n",
    "\n",
    "Let's consider an autonomous vehicle driving on a highway and tracking a vehicle in front in order to initiate an overtaking maneuver. Let $x_t\\in\\{1,2,3\\}$ denote the lane the vehicle in front is driving on at time $t\\in\\{1,\\dots,10\\}$. Unfortunately, the sensor readings are noisy as depicted below.\n",
    "<img src=\"gfx/car_on_lane_map_unary_1.png\" width=\"500\"/>\n",
    "\n",
    "\n",
    "Selecting the most likely lane at each time $t$ independently (green) leads to wrong estimates for $t=\\{3,7,10\\}$. To solve this problem, and recover the correct situation depicted below\n",
    "<img src=\"gfx/car_on_lane.png\" width=\"500\"/>\n",
    "\n",
    "we can integrate prior knowledge and infer the most likely situation using max-product belief propagation. A sensible prior would favor staying on the same lane over changing one lane at a time over changing two lanes at a time. This prior can be integrated via a pairwise, chain-structured Markov Random Field (also called: Hidden Markov Model or HMM) where pairwise factors between adjacent frames modulate transition likelihoods:\n",
    "<img src=\"gfx/chain_10_nodes.png\" width=\"400\"/>\n",
    "\n",
    "$$g_\\theta(x_i,x_{i+1}) = \\begin{bmatrix}0.8 & 0.2 & 0.0\\\\ 0.2 & 0.6 & 0.2 \\\\ 0.0 & 0.2 & 0.8\\end{bmatrix}$$\n",
    "$$ p_\\theta({\\bf x}) \\propto \\prod_{1}^{10} f_i(x_i)\\prod_{1}^{9}g_{\\theta}(x_i, x_{i+1})$$\n",
    "\n",
    "Your task is to complete the code by implementing the specialized algorithm for max-product belief propagation on chain-structured Markov random field using backtracking. \n",
    "\n",
    "Let's first import the modules needed and define a helper function:"
   ]
  },
  {
   "cell_type": "code",
   "execution_count": 1,
   "id": "e2342608",
   "metadata": {},
   "outputs": [],
   "source": [
    "# import modules\n",
    "import numpy as np\n",
    "import matplotlib.pyplot as plt\n",
    "from scipy import misc\n",
    "\n",
    "\n",
    "# plot function\n",
    "# input: Nx3 matrix of values & title string\n",
    "def plot(vals,title=''):\n",
    "    plt.close()\n",
    "    vals /= np.tile(np.sum(vals,1),(3,1)).transpose()\n",
    "    f, axarr = plt.subplots(1,10,figsize=(10,2))\n",
    "    plt.suptitle(title, fontsize=16, fontweight='bold')\n",
    "    for i in range(vals.shape[0]):\n",
    "        axarr[i].barh([0,1,2],np.array([1,1,1]),color='white',edgecolor='black',linewidth=2)\n",
    "        axarr[i].barh([0,1,2],vals[i],color='red')\n",
    "        axarr[i].axis('off')\n",
    "    plt.show()"
   ]
  },
  {
   "cell_type": "markdown",
   "id": "97b0d82e",
   "metadata": {},
   "source": [
    "And define the potentials:"
   ]
  },
  {
   "cell_type": "code",
   "execution_count": 2,
   "id": "fcaf97a1",
   "metadata": {},
   "outputs": [
    {
     "data": {
      "image/png": "[encoded data removed]",
      "text/plain": [
       "<Figure size 720x144 with 10 Axes>"
      ]
     },
     "metadata": {
      "needs_background": "light"
     },
     "output_type": "display_data"
    }
   ],
   "source": [
    "# unary: Nx3 matrix specifying unary likelihood of each state\n",
    "unary = np.array([[0.7,0.1,0.2],[0.7,0.2,0.1],[0.2,0.1,0.7],[0.7,0.2,0.1],\n",
    "                  [0.2,0.6,0.2],[0.1,0.8,0.1],[0.4,0.3,0.3],[0.1,0.8,0.1],\n",
    "                  [0.1,0.1,0.8],[0.1,0.5,0.4]])\n",
    "# pairwise: 3x3 matrix specifying transition probabilities (rows=t -> columns=t+1)\n",
    "pairwise = np.array([[0.8,0.2,0.0],[0.2,0.6,0.2],[0.0,0.2,0.8]])\n",
    "\n",
    "# plot unaries\n",
    "plot(unary,'Unary')"
   ]
  },
  {
   "cell_type": "markdown",
   "id": "bbdcc9e7",
   "metadata": {},
   "source": [
    "### Task 1\n",
    "\n",
    "Implement the computation of the messages between the variables below."
   ]
  },
  {
   "cell_type": "code",
   "execution_count": 24,
   "id": "48d97d7c",
   "metadata": {},
   "outputs": [],
   "source": [
    "# model parameters (number of variables/states)\n",
    "[num_vars,num_states] = unary.shape\n",
    "\n",
    "# compute messages\n",
    "right_msg = np.zeros([num_vars-1, num_states]) # (num_vars-1) x num_states matrix\n",
    "for i in range(num_vars-2, -1, -1):\n",
    "    \n",
    "    # TODO \n",
    "    # compute messages for the chain structured Markov random field\n",
    "    \n",
    "    # when we calculate the most probably config, we start by going from the most distant node and go back to the start (the left most node)\n",
    "    # Normally we need to compute all messages - between factor and variable and between variable and factor. \n",
    "    # What our msg variable track is precisely the messages g_i -> x_i\n",
    "    if i == num_vars-2:\n",
    "        # When we calculate the message coming to x_9 from g_9, the message coming from x_10 is basically the message f_3 -> x_10, which is equivalent to x_10 -> g_9. To calculate the message g_9 -> x_9 we need to take into consideration g_9(x_9, x_10) and the message f_10 -> x_10\n",
    "        # Hence the message g_9 -> x_9 is a function of x_9 and its definition is max_{x_10} g_9(x_9, x_10) f_10(x_10)\n",
    "        right_msg[i, 0] = np.max(pairwise[0, :] * unary[i+1])\n",
    "        right_msg[i, 1] = np.max(pairwise[1, :] * unary[i+1])\n",
    "        right_msg[i, 2] = np.max(pairwise[2, :] * unary[i+1])\n",
    "    else:\n",
    "        # In this case the message g_i -> x_i takes into consideration not only g_i(x_i, x_{i+1}) and f_{i+1}(x_{i+1}) but also the message g_{i+1} -> x_{i+1}. The  message f_{i+1} -> x_{i+1} and message g_{i+1} -> x_{i+1} create the message x_{i+1} -> g_i\n",
    "        right_msg[i, 0] = np.max(pairwise[0, :] * unary[i+1] * right_msg[i+1,:])\n",
    "        right_msg[i, 1] = np.max(pairwise[1, :] * unary[i+1] * right_msg[i+1,:])\n",
    "        right_msg[i, 2] = np.max(pairwise[2, :] * unary[i+1] * right_msg[i+1,:])\n"
   ]
  },
  {
   "cell_type": "code",
   "execution_count": null,
   "id": "2754c0d0",
   "metadata": {},
   "outputs": [],
   "source": [
    "# compute messages\n",
    "left_msg = np.ones([num_vars, num_states]) # (num_vars-1) x num_states matrix\n",
    "for i in range(1, num_vars):\n",
    "    if i == 1:\n",
    "        left_msg[i, 0] = np.max(pairwise[:, 0] * unary[i-1])\n",
    "        left_msg[i, 1] = np.max(pairwise[:, 1] * unary[i-1])\n",
    "        left_msg[i, 2] = np.max(pairwise[:, 2] * unary[i-1])\n",
    "    else:\n",
    "        left_msg[i, 0] = np.max(pairwise[:, 0] * unary[i-1] * left_msg[i-1,:])\n",
    "        left_msg[i, 1] = np.max(pairwise[:, 1] * unary[i-1] * left_msg[i-1,:])\n",
    "        left_msg[i, 2] = np.max(pairwise[:, 2] * unary[i-1] * left_msg[i-1,:])\n"
   ]
  },
  {
   "cell_type": "markdown",
   "id": "c18db73c",
   "metadata": {},
   "source": [
    "### Task 2\n",
    "\n",
    "Use dynamic programming to calculate and plot the MAP solution.\n",
    "\n",
    "**Outputs:**\n",
    " * `max_marginals`: `num_vars` x `num_states` array of estimated max-marginals\n",
    " * `map`: array comprising the estimated MAP state of each variable"
   ]
  },
  {
   "cell_type": "code",
   "execution_count": 28,
   "id": "1de19c94",
   "metadata": {},
   "outputs": [],
   "source": [
    "# This one should be the right implementation.\n",
    "\n",
    "# calculate max-marginals (num_vars x num_states matrix) and MAP estimates (num_vars x 1 matrix)\n",
    "max_marginals = np.zeros([num_vars,num_states])\n",
    "map = np.zeros(num_vars, dtype=int)\n",
    "for i in range(num_vars):\n",
    "    # TODO \n",
    "    # calculate MAP estimates (num_vars x 1 matrix) for the chain structured Markov random field\n",
    "    \n",
    "    if i == 0:\n",
    "        max_marginals[i, :] = unary[i, :] * right_msg[i, :]\n",
    "    elif i == num_vars - 1:\n",
    "        max_marginals[i, :] = unary[i, :] * left_msg[i, :]\n",
    "    else:\n",
    "        max_marginals[i, :] = unary[i, :] * right_msg[i,:] * left_msg[i, :]\n",
    "\n",
    "    map[i] = np.argmax(max_marginals[i,:])\n"
   ]
  },
  {
   "cell_type": "markdown",
   "id": "ef57569a",
   "metadata": {},
   "source": [
    "Visualize and print the results:"
   ]
  },
  {
   "cell_type": "code",
   "execution_count": 29,
   "id": "0074fb41",
   "metadata": {},
   "outputs": [
    {
     "data": {
      "image/png": "[encoded data removed]",
      "text/plain": [
       "<Figure size 720x144 with 10 Axes>"
      ]
     },
     "metadata": {
      "needs_background": "light"
     },
     "output_type": "display_data"
    },
    {
     "name": "stdout",
     "output_type": "stream",
     "text": [
      "MAP Estimate:\n",
      "[0 0 0 0 1 1 1 1 2 2]\n"
     ]
    }
   ],
   "source": [
    "# plot max-marginals\n",
    "plot(max_marginals,'Max Marginals')\n",
    "\n",
    "# print MAP state\n",
    "print(\"MAP Estimate:\")\n",
    "print(np.argmax(max_marginals,axis=1))"
   ]
  },
  {
   "cell_type": "code",
   "execution_count": null,
   "id": "cc4d1f82",
   "metadata": {},
   "outputs": [],
   "source": []
  }
 ],
 "metadata": {
  "kernelspec": {
   "display_name": "lecturecv-ex03",
   "language": "python",
   "name": "python3"
  },
  "language_info": {
   "codemirror_mode": {
    "name": "ipython",
    "version": 3
   },
   "file_extension": ".py",
   "mimetype": "text/x-python",
   "name": "python",
   "nbconvert_exporter": "python",
   "pygments_lexer": "ipython3",
   "version": "3.8.8"
  }
 },
 "nbformat": 4,
 "nbformat_minor": 5
}
